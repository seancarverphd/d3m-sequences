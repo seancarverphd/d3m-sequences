{
 "cells": [
  {
   "cell_type": "code",
   "execution_count": 1,
   "metadata": {},
   "outputs": [],
   "source": [
    "import json"
   ]
  },
  {
   "cell_type": "code",
   "execution_count": 2,
   "metadata": {},
   "outputs": [],
   "source": [
    "with open('test_pipeline.json') as f:\n",
    "    d = json.load(f) "
   ]
  },
  {
   "cell_type": "code",
   "execution_count": 3,
   "metadata": {},
   "outputs": [
    {
     "name": "stdout",
     "output_type": "stream",
     "text": [
      "{'id': '4243b9b4-a5a4-48dd-8e6d-9001c0804eac', 'schema': 'https://metadata.datadrivendiscovery.org/schemas/v0/pipeline.json', 'created': '2020-01-15T18:05:23.439795Z', 'inputs': [{'name': 'dataset inputs'}], 'outputs': [{'data': 'steps.6.produce', 'name': 'output predictions'}], 'steps': [{'type': 'PRIMITIVE', 'primitive': {'id': '4b42ce1e-9b98-4a25-b68e-fad13311eb65', 'version': '0.3.0', 'python_path': 'd3m.primitives.data_transformation.dataset_to_dataframe.Common', 'name': 'Extract a DataFrame from a Dataset', 'digest': '422744651afd5995d029a227a1dd7b1696038816b7eb9601f37d661757812aee'}, 'arguments': {'inputs': {'type': 'CONTAINER', 'data': 'inputs.0'}}, 'outputs': [{'id': 'produce'}]}, {'type': 'PRIMITIVE', 'primitive': {'id': 'd510cb7a-1782-4f51-b44c-58f0236e47c7', 'version': '0.6.0', 'python_path': 'd3m.primitives.data_transformation.column_parser.Common', 'name': 'Parses strings into their types', 'digest': 'f1215fe3351a2e8bf495f9ed5ed50e88b30d78d4d7ebd9e13bb544e63a10994b'}, 'arguments': {'inputs': {'type': 'CONTAINER', 'data': 'steps.0.produce'}}, 'outputs': [{'id': 'produce'}], 'hyperparams': {'parse_semantic_types': {'type': 'VALUE', 'data': ['http://schema.org/Integer', 'http://schema.org/Float']}}}, {'type': 'PRIMITIVE', 'primitive': {'id': '4503a4c6-42f7-45a1-a1d4-ed69699cf5e1', 'version': '0.3.0', 'python_path': 'd3m.primitives.data_transformation.extract_columns_by_semantic_types.Common', 'name': 'Extracts columns by semantic type', 'digest': '30cceb9812b430d6550d54766b4f674b68b92531fc2ad63f56818ea002399c13'}, 'arguments': {'inputs': {'type': 'CONTAINER', 'data': 'steps.1.produce'}}, 'outputs': [{'id': 'produce'}], 'hyperparams': {'semantic_types': {'type': 'VALUE', 'data': ['http://schema.org/Integer', 'http://schema.org/Float']}}}, {'type': 'PRIMITIVE', 'primitive': {'id': 'd016df89-de62-3c53-87ed-c06bb6a23cde', 'version': '2019.11.13', 'python_path': 'd3m.primitives.data_cleaning.imputer.SKlearn', 'name': 'sklearn.impute.SimpleImputer', 'digest': '1fbe6321949de3f9bd1d93c6900cd5c3b3ee4b1a01506b89c69a776a9d27bf7a'}, 'arguments': {'inputs': {'type': 'CONTAINER', 'data': 'steps.2.produce'}}, 'outputs': [{'id': 'produce'}], 'hyperparams': {'use_semantic_types': {'type': 'VALUE', 'data': True}, 'return_result': {'type': 'VALUE', 'data': 'replace'}}}, {'type': 'PRIMITIVE', 'primitive': {'id': '4503a4c6-42f7-45a1-a1d4-ed69699cf5e1', 'version': '0.3.0', 'python_path': 'd3m.primitives.data_transformation.extract_columns_by_semantic_types.Common', 'name': 'Extracts columns by semantic type', 'digest': '30cceb9812b430d6550d54766b4f674b68b92531fc2ad63f56818ea002399c13'}, 'arguments': {'inputs': {'type': 'CONTAINER', 'data': 'steps.1.produce'}}, 'outputs': [{'id': 'produce'}], 'hyperparams': {'semantic_types': {'type': 'VALUE', 'data': ['https://metadata.datadrivendiscovery.org/types/TrueTarget']}}}, {'type': 'PRIMITIVE', 'primitive': {'id': '448590e7-8cf6-4bfd-abc4-db2980d8114e', 'version': '2.3.1', 'python_path': 'd3m.primitives.classification.search_hybrid.Find_projections', 'name': 'find projections', 'digest': '5d478ad9bcb004b4444a846773a135d62d2975ca4bf3ba704c024514e5867801'}, 'arguments': {'inputs': {'type': 'CONTAINER', 'data': 'steps.3.produce'}, 'outputs': {'type': 'CONTAINER', 'data': 'steps.4.produce'}}, 'outputs': [{'id': 'produce'}], 'hyperparams': {'blackbox': {'type': 'VALUE', 'data': {'class': 'd3m.primitives.classification.random_forest.SKlearn'}}}}, {'type': 'PRIMITIVE', 'primitive': {'id': '8d38b340-f83f-4877-baaa-162f8e551736', 'version': '0.3.0', 'python_path': 'd3m.primitives.data_transformation.construct_predictions.Common', 'name': 'Construct pipeline predictions output', 'digest': '2994d9885ddeb72f5a47a8fb04e27fe3f684adebf7c5dc27cb56392475dbb29c'}, 'arguments': {'inputs': {'type': 'CONTAINER', 'data': 'steps.5.produce'}, 'reference': {'type': 'CONTAINER', 'data': 'steps.0.produce'}}, 'outputs': [{'id': 'produce'}]}], 'digest': 'decb7a744f4829856283d5f8f1f5f793614235d05de8d18863d4579ad9b5b9e7'}\n"
     ]
    }
   ],
   "source": [
    "print(d)"
   ]
  },
  {
   "cell_type": "code",
   "execution_count": 4,
   "metadata": {},
   "outputs": [
    {
     "data": {
      "text/plain": [
       "'4243b9b4-a5a4-48dd-8e6d-9001c0804eac'"
      ]
     },
     "execution_count": 4,
     "metadata": {},
     "output_type": "execute_result"
    }
   ],
   "source": [
    "d['id']"
   ]
  },
  {
   "cell_type": "code",
   "execution_count": 5,
   "metadata": {},
   "outputs": [
    {
     "data": {
      "text/plain": [
       "[{'type': 'PRIMITIVE',\n",
       "  'primitive': {'id': '4b42ce1e-9b98-4a25-b68e-fad13311eb65',\n",
       "   'version': '0.3.0',\n",
       "   'python_path': 'd3m.primitives.data_transformation.dataset_to_dataframe.Common',\n",
       "   'name': 'Extract a DataFrame from a Dataset',\n",
       "   'digest': '422744651afd5995d029a227a1dd7b1696038816b7eb9601f37d661757812aee'},\n",
       "  'arguments': {'inputs': {'type': 'CONTAINER', 'data': 'inputs.0'}},\n",
       "  'outputs': [{'id': 'produce'}]},\n",
       " {'type': 'PRIMITIVE',\n",
       "  'primitive': {'id': 'd510cb7a-1782-4f51-b44c-58f0236e47c7',\n",
       "   'version': '0.6.0',\n",
       "   'python_path': 'd3m.primitives.data_transformation.column_parser.Common',\n",
       "   'name': 'Parses strings into their types',\n",
       "   'digest': 'f1215fe3351a2e8bf495f9ed5ed50e88b30d78d4d7ebd9e13bb544e63a10994b'},\n",
       "  'arguments': {'inputs': {'type': 'CONTAINER', 'data': 'steps.0.produce'}},\n",
       "  'outputs': [{'id': 'produce'}],\n",
       "  'hyperparams': {'parse_semantic_types': {'type': 'VALUE',\n",
       "    'data': ['http://schema.org/Integer', 'http://schema.org/Float']}}},\n",
       " {'type': 'PRIMITIVE',\n",
       "  'primitive': {'id': '4503a4c6-42f7-45a1-a1d4-ed69699cf5e1',\n",
       "   'version': '0.3.0',\n",
       "   'python_path': 'd3m.primitives.data_transformation.extract_columns_by_semantic_types.Common',\n",
       "   'name': 'Extracts columns by semantic type',\n",
       "   'digest': '30cceb9812b430d6550d54766b4f674b68b92531fc2ad63f56818ea002399c13'},\n",
       "  'arguments': {'inputs': {'type': 'CONTAINER', 'data': 'steps.1.produce'}},\n",
       "  'outputs': [{'id': 'produce'}],\n",
       "  'hyperparams': {'semantic_types': {'type': 'VALUE',\n",
       "    'data': ['http://schema.org/Integer', 'http://schema.org/Float']}}},\n",
       " {'type': 'PRIMITIVE',\n",
       "  'primitive': {'id': 'd016df89-de62-3c53-87ed-c06bb6a23cde',\n",
       "   'version': '2019.11.13',\n",
       "   'python_path': 'd3m.primitives.data_cleaning.imputer.SKlearn',\n",
       "   'name': 'sklearn.impute.SimpleImputer',\n",
       "   'digest': '1fbe6321949de3f9bd1d93c6900cd5c3b3ee4b1a01506b89c69a776a9d27bf7a'},\n",
       "  'arguments': {'inputs': {'type': 'CONTAINER', 'data': 'steps.2.produce'}},\n",
       "  'outputs': [{'id': 'produce'}],\n",
       "  'hyperparams': {'use_semantic_types': {'type': 'VALUE', 'data': True},\n",
       "   'return_result': {'type': 'VALUE', 'data': 'replace'}}},\n",
       " {'type': 'PRIMITIVE',\n",
       "  'primitive': {'id': '4503a4c6-42f7-45a1-a1d4-ed69699cf5e1',\n",
       "   'version': '0.3.0',\n",
       "   'python_path': 'd3m.primitives.data_transformation.extract_columns_by_semantic_types.Common',\n",
       "   'name': 'Extracts columns by semantic type',\n",
       "   'digest': '30cceb9812b430d6550d54766b4f674b68b92531fc2ad63f56818ea002399c13'},\n",
       "  'arguments': {'inputs': {'type': 'CONTAINER', 'data': 'steps.1.produce'}},\n",
       "  'outputs': [{'id': 'produce'}],\n",
       "  'hyperparams': {'semantic_types': {'type': 'VALUE',\n",
       "    'data': ['https://metadata.datadrivendiscovery.org/types/TrueTarget']}}},\n",
       " {'type': 'PRIMITIVE',\n",
       "  'primitive': {'id': '448590e7-8cf6-4bfd-abc4-db2980d8114e',\n",
       "   'version': '2.3.1',\n",
       "   'python_path': 'd3m.primitives.classification.search_hybrid.Find_projections',\n",
       "   'name': 'find projections',\n",
       "   'digest': '5d478ad9bcb004b4444a846773a135d62d2975ca4bf3ba704c024514e5867801'},\n",
       "  'arguments': {'inputs': {'type': 'CONTAINER', 'data': 'steps.3.produce'},\n",
       "   'outputs': {'type': 'CONTAINER', 'data': 'steps.4.produce'}},\n",
       "  'outputs': [{'id': 'produce'}],\n",
       "  'hyperparams': {'blackbox': {'type': 'VALUE',\n",
       "    'data': {'class': 'd3m.primitives.classification.random_forest.SKlearn'}}}},\n",
       " {'type': 'PRIMITIVE',\n",
       "  'primitive': {'id': '8d38b340-f83f-4877-baaa-162f8e551736',\n",
       "   'version': '0.3.0',\n",
       "   'python_path': 'd3m.primitives.data_transformation.construct_predictions.Common',\n",
       "   'name': 'Construct pipeline predictions output',\n",
       "   'digest': '2994d9885ddeb72f5a47a8fb04e27fe3f684adebf7c5dc27cb56392475dbb29c'},\n",
       "  'arguments': {'inputs': {'type': 'CONTAINER', 'data': 'steps.5.produce'},\n",
       "   'reference': {'type': 'CONTAINER', 'data': 'steps.0.produce'}},\n",
       "  'outputs': [{'id': 'produce'}]}]"
      ]
     },
     "execution_count": 5,
     "metadata": {},
     "output_type": "execute_result"
    }
   ],
   "source": [
    "d['steps']"
   ]
  },
  {
   "cell_type": "code",
   "execution_count": 6,
   "metadata": {},
   "outputs": [
    {
     "data": {
      "text/plain": [
       "{'type': 'PRIMITIVE',\n",
       " 'primitive': {'id': '4b42ce1e-9b98-4a25-b68e-fad13311eb65',\n",
       "  'version': '0.3.0',\n",
       "  'python_path': 'd3m.primitives.data_transformation.dataset_to_dataframe.Common',\n",
       "  'name': 'Extract a DataFrame from a Dataset',\n",
       "  'digest': '422744651afd5995d029a227a1dd7b1696038816b7eb9601f37d661757812aee'},\n",
       " 'arguments': {'inputs': {'type': 'CONTAINER', 'data': 'inputs.0'}},\n",
       " 'outputs': [{'id': 'produce'}]}"
      ]
     },
     "execution_count": 6,
     "metadata": {},
     "output_type": "execute_result"
    }
   ],
   "source": [
    "d['steps'][0]"
   ]
  },
  {
   "cell_type": "code",
   "execution_count": 7,
   "metadata": {},
   "outputs": [
    {
     "data": {
      "text/plain": [
       "{'id': '4b42ce1e-9b98-4a25-b68e-fad13311eb65',\n",
       " 'version': '0.3.0',\n",
       " 'python_path': 'd3m.primitives.data_transformation.dataset_to_dataframe.Common',\n",
       " 'name': 'Extract a DataFrame from a Dataset',\n",
       " 'digest': '422744651afd5995d029a227a1dd7b1696038816b7eb9601f37d661757812aee'}"
      ]
     },
     "execution_count": 7,
     "metadata": {},
     "output_type": "execute_result"
    }
   ],
   "source": [
    "d['steps'][0]['primitive']"
   ]
  },
  {
   "cell_type": "code",
   "execution_count": 8,
   "metadata": {},
   "outputs": [
    {
     "data": {
      "text/plain": [
       "'4b42ce1e-9b98-4a25-b68e-fad13311eb65'"
      ]
     },
     "execution_count": 8,
     "metadata": {},
     "output_type": "execute_result"
    }
   ],
   "source": [
    "d['steps'][0]['primitive']['id']"
   ]
  },
  {
   "cell_type": "code",
   "execution_count": null,
   "metadata": {},
   "outputs": [],
   "source": []
  }
 ],
 "metadata": {
  "kernelspec": {
   "display_name": "Python 3",
   "language": "python",
   "name": "python3"
  },
  "language_info": {
   "codemirror_mode": {
    "name": "ipython",
    "version": 3
   },
   "file_extension": ".py",
   "mimetype": "text/x-python",
   "name": "python",
   "nbconvert_exporter": "python",
   "pygments_lexer": "ipython3",
   "version": "3.7.3"
  }
 },
 "nbformat": 4,
 "nbformat_minor": 2
}
